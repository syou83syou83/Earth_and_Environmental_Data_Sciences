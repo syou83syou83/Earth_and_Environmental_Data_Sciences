{
 "cells": [
  {
   "cell_type": "code",
   "execution_count": 69,
   "id": "impressive-formula",
   "metadata": {},
   "outputs": [],
   "source": [
    "#https://www.coursera.org/learn/global-warming-model/lecture/xP2SG/how-the-model-works\n",
    "import numpy       # Naked Planet Climate Model    \n",
    "import matplotlib.pyplot as plt"
   ]
  },
  {
   "cell_type": "code",
   "execution_count": 70,
   "id": "unusual-capitol",
   "metadata": {},
   "outputs": [],
   "source": [
    "timeStep = 100           # years\n",
    "waterDepth = 4000        # meters\n",
    "L = 1350                 # Watts/m2\n",
    "albedo = 0.3\n",
    "epsilon = 1\n",
    "sigma = 5.67E-8          # W/m2 K4\n",
    "heat_capacity=4.2*1000*waterDepth*1000   # 第一个1000是水的密度，第二个1000是从kg 转化成克\n",
    "timeStep_second=timeStep*365*24*3600     #这里的时间要转换成秒"
   ]
  },
  {
   "cell_type": "code",
   "execution_count": 71,
   "id": "norwegian-invalid",
   "metadata": {},
   "outputs": [],
   "source": [
    "timeYears=[0]\n",
    "TK=[0.]\n",
    "HeatContent=[TK[0]*heat_capacity]\n",
    "\n",
    "for i in range(1,50):\n",
    "    HeatContent.append(HeatContent[i-1]+(L*(1-albedo)/4-epsilon*sigma*pow(TK[i-1],4))*timeStep_second)\n",
    "    TK.append(HeatContent[i]/heat_capacity)\n",
    "    timeYears.append(timeYears[i-1]+timeStep)\n",
    "\n"
   ]
  },
  {
   "cell_type": "code",
   "execution_count": 72,
   "id": "exterior-gossip",
   "metadata": {},
   "outputs": [
    {
     "data": {
      "image/png": "[encoded data removed]",
      "text/plain": [
       "<Figure size 432x288 with 1 Axes>"
      ]
     },
     "metadata": {},
     "output_type": "display_data"
    }
   ],
   "source": [
    "plt.plot(timeYears,TK)\n",
    "plt.show()"
   ]
  },
  {
   "cell_type": "code",
   "execution_count": null,
   "id": "foster-hardware",
   "metadata": {},
   "outputs": [],
   "source": []
  },
  {
   "cell_type": "code",
   "execution_count": null,
   "id": "indie-franchise",
   "metadata": {},
   "outputs": [],
   "source": []
  }
 ],
 "metadata": {
  "kernelspec": {
   "display_name": "Python 3",
   "language": "python",
   "name": "python3"
  },
  "language_info": {
   "codemirror_mode": {
    "name": "ipython",
    "version": 3
   },
   "file_extension": ".py",
   "mimetype": "text/x-python",
   "name": "python",
   "nbconvert_exporter": "python",
   "pygments_lexer": "ipython3",
   "version": "3.7.10"
  }
 },
 "nbformat": 4,
 "nbformat_minor": 5
}
