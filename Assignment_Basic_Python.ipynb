{
 "cells": [
  {
   "cell_type": "code",
   "execution_count": 45,
   "id": "parliamentary-graduate",
   "metadata": {},
   "outputs": [],
   "source": [
    "import datetime\n",
    "#help(datetime)"
   ]
  },
  {
   "cell_type": "code",
   "execution_count": 46,
   "id": "daily-inspiration",
   "metadata": {},
   "outputs": [],
   "source": [
    "\n",
    "file = open('rces-roster-2020.csv')\n"
   ]
  },
  {
   "cell_type": "code",
   "execution_count": 47,
   "id": "fewer-crime",
   "metadata": {},
   "outputs": [],
   "source": [
    "#help(file)"
   ]
  },
  {
   "cell_type": "code",
   "execution_count": 48,
   "id": "false-india",
   "metadata": {},
   "outputs": [
    {
     "name": "stdout",
     "output_type": "stream",
     "text": [
      "last,first,uni\n",
      "Antwerpen,Rafael,ra3063\n",
      "Baur,Jasper,jb4493\n",
      "Berghoff,Garrett,gb2681\n",
      "Brayton,Casey,cb3630\n",
      "Burke,Jaron,jb4389\n",
      "Chen,Shunan,sc4571\n",
      "Elling,Maxwell,mte2112\n",
      "Hlinka,Lisa,lh2672\n",
      "Ho,Ioikuan,ih2347\n",
      "Jacobson,Tess,twj2103\n",
      "Jasper,Claire,cej2141\n",
      "Juang,Caroline,csj2116\n",
      "Le,Huy,hdl2115\n",
      "Levin,Janette,jnl2127\n",
      "Meng,Hongyan,hm2809\n",
      "Nielsen,Miriam,mn2812\n",
      "Peccia,Ally,asp2201\n",
      "Smith,Sarah,ses2271\n",
      "Song,Dongping,ds3301\n",
      "Sun,Yuliang,ys3221\n",
      "Walther,Tess,tlw2139\n",
      "Yin,Danqi,dy2395\n",
      "\n"
     ]
    }
   ],
   "source": [
    "w=file.read()\n",
    "print(w)"
   ]
  },
  {
   "cell_type": "code",
   "execution_count": 49,
   "id": "proprietary-adams",
   "metadata": {},
   "outputs": [
    {
     "name": "stdout",
     "output_type": "stream",
     "text": [
      "['last,first,uni', 'Antwerpen,Rafael,ra3063', 'Baur,Jasper,jb4493', 'Berghoff,Garrett,gb2681', 'Brayton,Casey,cb3630', 'Burke,Jaron,jb4389', 'Chen,Shunan,sc4571', 'Elling,Maxwell,mte2112', 'Hlinka,Lisa,lh2672', 'Ho,Ioikuan,ih2347', 'Jacobson,Tess,twj2103', 'Jasper,Claire,cej2141', 'Juang,Caroline,csj2116', 'Le,Huy,hdl2115', 'Levin,Janette,jnl2127', 'Meng,Hongyan,hm2809', 'Nielsen,Miriam,mn2812', 'Peccia,Ally,asp2201', 'Smith,Sarah,ses2271', 'Song,Dongping,ds3301', 'Sun,Yuliang,ys3221', 'Walther,Tess,tlw2139', 'Yin,Danqi,dy2395']\n"
     ]
    }
   ],
   "source": [
    "ww=w.split()\n",
    "print(ww)"
   ]
  },
  {
   "cell_type": "code",
   "execution_count": 50,
   "id": "another-breach",
   "metadata": {},
   "outputs": [
    {
     "name": "stdout",
     "output_type": "stream",
     "text": [
      "last,first,uni Antwerpen,Rafael,ra3063 Baur,Jasper,jb4493 Berghoff,Garrett,gb2681 Brayton,Casey,cb3630 Burke,Jaron,jb4389 Chen,Shunan,sc4571 Elling,Maxwell,mte2112 Hlinka,Lisa,lh2672 Ho,Ioikuan,ih2347 Jacobson,Tess,twj2103 Jasper,Claire,cej2141 Juang,Caroline,csj2116 Le,Huy,hdl2115 Levin,Janette,jnl2127 Meng,Hongyan,hm2809 Nielsen,Miriam,mn2812 Peccia,Ally,asp2201 Smith,Sarah,ses2271 Song,Dongping,ds3301 Sun,Yuliang,ys3221 Walther,Tess,tlw2139 Yin,Danqi,dy2395\n"
     ]
    }
   ],
   "source": [
    "print(*ww)"
   ]
  },
  {
   "cell_type": "code",
   "execution_count": null,
   "id": "crazy-estate",
   "metadata": {},
   "outputs": [],
   "source": []
  }
 ],
 "metadata": {
  "kernelspec": {
   "display_name": "Python 3",
   "language": "python",
   "name": "python3"
  },
  "language_info": {
   "codemirror_mode": {
    "name": "ipython",
    "version": 3
   },
   "file_extension": ".py",
   "mimetype": "text/x-python",
   "name": "python",
   "nbconvert_exporter": "python",
   "pygments_lexer": "ipython3",
   "version": "3.7.10"
  }
 },
 "nbformat": 4,
 "nbformat_minor": 5
}
